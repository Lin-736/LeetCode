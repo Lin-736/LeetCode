{
 "cells": [
  {
   "cell_type": "markdown",
   "id": "e4636ffe",
   "metadata": {},
   "source": [
    "# Leetcode question1:"
   ]
  },
  {
   "cell_type": "code",
   "execution_count": null,
   "id": "527fc6d4",
   "metadata": {},
   "outputs": [],
   "source": [
    "class Solution(object):\n",
    "    def twoSum(self, nums, target):\n",
    "        arr=[0,0]\n",
    "        le=len(nums)\n",
    "        q=1\n",
    "        for i in range(le):\n",
    "            sub_nums=nums[i+1:le]\n",
    "            q=q+1\n",
    "            flag = sub_nums.count(target-nums[i])\n",
    "            if flag == 0:\n",
    "                continue\n",
    "            else:\n",
    "                for j in range(le-i-1):\n",
    "                    if sub_nums[j] == target-nums[i]:\n",
    "                        arr[0]=i\n",
    "                        arr[1]=j+i+1\n",
    "                        return arr\n",
    "            if i==le-2:\n",
    "                break"
   ]
  }
 ],
 "metadata": {
  "kernelspec": {
   "display_name": "Python 3 (ipykernel)",
   "language": "python",
   "name": "python3"
  },
  "language_info": {
   "codemirror_mode": {
    "name": "ipython",
    "version": 3
   },
   "file_extension": ".py",
   "mimetype": "text/x-python",
   "name": "python",
   "nbconvert_exporter": "python",
   "pygments_lexer": "ipython3",
   "version": "3.10.9"
  }
 },
 "nbformat": 4,
 "nbformat_minor": 5
}
